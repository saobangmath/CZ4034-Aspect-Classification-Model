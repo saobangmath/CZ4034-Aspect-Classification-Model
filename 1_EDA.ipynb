{
 "cells": [
  {
   "cell_type": "markdown",
   "metadata": {},
   "source": [
    "# 1. EDA"
   ]
  },
  {
   "cell_type": "code",
   "execution_count": 1,
   "metadata": {},
   "outputs": [],
   "source": [
    "import pandas as pd\n",
    "from tqdm import tqdm\n",
    "tqdm.pandas()"
   ]
  },
  {
   "cell_type": "code",
   "execution_count": 2,
   "metadata": {},
   "outputs": [
    {
     "name": "stdout",
     "output_type": "stream",
     "text": [
      "300000\n"
     ]
    },
    {
     "data": {
      "text/html": [
       "<div>\n",
       "<style scoped>\n",
       "    .dataframe tbody tr th:only-of-type {\n",
       "        vertical-align: middle;\n",
       "    }\n",
       "\n",
       "    .dataframe tbody tr th {\n",
       "        vertical-align: top;\n",
       "    }\n",
       "\n",
       "    .dataframe thead th {\n",
       "        text-align: right;\n",
       "    }\n",
       "</style>\n",
       "<table border=\"1\" class=\"dataframe\">\n",
       "  <thead>\n",
       "    <tr style=\"text-align: right;\">\n",
       "      <th></th>\n",
       "      <th>id</th>\n",
       "      <th>raw_address</th>\n",
       "      <th>POI/street</th>\n",
       "    </tr>\n",
       "  </thead>\n",
       "  <tbody>\n",
       "    <tr>\n",
       "      <th>0</th>\n",
       "      <td>0</td>\n",
       "      <td>kedai kopi sidikalang palapa no 8 labuh baru t...</td>\n",
       "      <td>kedai kopi sidikalang/palapa</td>\n",
       "    </tr>\n",
       "    <tr>\n",
       "      <th>1</th>\n",
       "      <td>1</td>\n",
       "      <td>jalan b. kawi, no 18 rw 11 50261</td>\n",
       "      <td>/jalan b. kawi</td>\n",
       "    </tr>\n",
       "  </tbody>\n",
       "</table>\n",
       "</div>"
      ],
      "text/plain": [
       "   id                                        raw_address  \\\n",
       "0   0  kedai kopi sidikalang palapa no 8 labuh baru t...   \n",
       "1   1                   jalan b. kawi, no 18 rw 11 50261   \n",
       "\n",
       "                     POI/street  \n",
       "0  kedai kopi sidikalang/palapa  \n",
       "1                /jalan b. kawi  "
      ]
     },
     "execution_count": 2,
     "metadata": {},
     "output_type": "execute_result"
    }
   ],
   "source": [
    "df = pd.read_csv(\"data/orig/new_train.csv\")\n",
    "print(len(df))\n",
    "df.head(2)"
   ]
  },
  {
   "cell_type": "code",
   "execution_count": 3,
   "metadata": {},
   "outputs": [
    {
     "data": {
      "text/html": [
       "<div>\n",
       "<style scoped>\n",
       "    .dataframe tbody tr th:only-of-type {\n",
       "        vertical-align: middle;\n",
       "    }\n",
       "\n",
       "    .dataframe tbody tr th {\n",
       "        vertical-align: top;\n",
       "    }\n",
       "\n",
       "    .dataframe thead th {\n",
       "        text-align: right;\n",
       "    }\n",
       "</style>\n",
       "<table border=\"1\" class=\"dataframe\">\n",
       "  <thead>\n",
       "    <tr style=\"text-align: right;\">\n",
       "      <th></th>\n",
       "      <th>id</th>\n",
       "      <th>raw_address</th>\n",
       "      <th>POI/street</th>\n",
       "      <th>poi</th>\n",
       "      <th>street</th>\n",
       "    </tr>\n",
       "  </thead>\n",
       "  <tbody>\n",
       "    <tr>\n",
       "      <th>0</th>\n",
       "      <td>0</td>\n",
       "      <td>kedai kopi sidikalang palapa no 8 labuh baru t...</td>\n",
       "      <td>kedai kopi sidikalang/palapa</td>\n",
       "      <td>kedai kopi sidikalang</td>\n",
       "      <td>palapa</td>\n",
       "    </tr>\n",
       "    <tr>\n",
       "      <th>1</th>\n",
       "      <td>1</td>\n",
       "      <td>jalan b. kawi, no 18 rw 11 50261</td>\n",
       "      <td>/jalan b. kawi</td>\n",
       "      <td></td>\n",
       "      <td>jalan b. kawi</td>\n",
       "    </tr>\n",
       "  </tbody>\n",
       "</table>\n",
       "</div>"
      ],
      "text/plain": [
       "   id                                        raw_address  \\\n",
       "0   0  kedai kopi sidikalang palapa no 8 labuh baru t...   \n",
       "1   1                   jalan b. kawi, no 18 rw 11 50261   \n",
       "\n",
       "                     POI/street                    poi         street  \n",
       "0  kedai kopi sidikalang/palapa  kedai kopi sidikalang         palapa  \n",
       "1                /jalan b. kawi                         jalan b. kawi  "
      ]
     },
     "execution_count": 3,
     "metadata": {},
     "output_type": "execute_result"
    }
   ],
   "source": [
    "df[[\"poi\", \"street\"]] = df[\"POI/street\"].str.split(\"/\", expand=True)\n",
    "df.head(2)"
   ]
  },
  {
   "cell_type": "markdown",
   "metadata": {},
   "source": [
    "## 1.1 Distributions"
   ]
  },
  {
   "cell_type": "code",
   "execution_count": 4,
   "metadata": {},
   "outputs": [
    {
     "data": {
      "text/plain": [
       "<AxesSubplot:>"
      ]
     },
     "execution_count": 4,
     "metadata": {},
     "output_type": "execute_result"
    },
    {
     "data": {
      "image/png": "[encoded data removed]",
      "text/plain": [
       "<Figure size 432x288 with 1 Axes>"
      ]
     },
     "metadata": {
      "needs_background": "light"
     },
     "output_type": "display_data"
    }
   ],
   "source": [
    "(df[\"poi\"] == \"\").value_counts().plot(kind=\"bar\")"
   ]
  },
  {
   "cell_type": "code",
   "execution_count": 5,
   "metadata": {},
   "outputs": [
    {
     "data": {
      "text/plain": [
       "<AxesSubplot:>"
      ]
     },
     "execution_count": 5,
     "metadata": {},
     "output_type": "execute_result"
    },
    {
     "data": {
      "image/png": "[encoded data removed]",
      "text/plain": [
       "<Figure size 432x288 with 1 Axes>"
      ]
     },
     "metadata": {
      "needs_background": "light"
     },
     "output_type": "display_data"
    }
   ],
   "source": [
    "(df[\"street\"] == \"\").value_counts().plot(kind=\"bar\")"
   ]
  },
  {
   "cell_type": "code",
   "execution_count": 6,
   "metadata": {},
   "outputs": [
    {
     "data": {
      "text/plain": [
       "<AxesSubplot:>"
      ]
     },
     "execution_count": 6,
     "metadata": {},
     "output_type": "execute_result"
    },
    {
     "data": {
      "image/png": "[encoded data removed]",
      "text/plain": [
       "<Figure size 432x288 with 1 Axes>"
      ]
     },
     "metadata": {
      "needs_background": "light"
     },
     "output_type": "display_data"
    }
   ],
   "source": [
    "(df[\"POI/street\"] == \"\").value_counts().plot(kind=\"bar\")"
   ]
  },
  {
   "cell_type": "markdown",
   "metadata": {},
   "source": [
    "### Observations:\n",
    "\n",
    "1. A large proportion (~60%) of the text don't have person names.\n",
    "2. Most of the text (~80%) have address information.\n",
    "3. All text have either person name or address info or both."
   ]
  },
  {
   "cell_type": "markdown",
   "metadata": {},
   "source": [
    "## 1.2 See whether this problem can be modelled as span-based problem"
   ]
  },
  {
   "cell_type": "code",
   "execution_count": 7,
   "metadata": {},
   "outputs": [],
   "source": [
    "import re\n",
    "import json\n",
    "\n",
    "import numpy as np\n",
    "from transformers import AutoTokenizer, AutoModelForTokenClassification\n",
    "tokenizer = AutoTokenizer.from_pretrained(\"cahya/xlm-roberta-large-indonesian-NER\")\n",
    "patt = re.compile(\"((?<=.)(?![a-zA-Z0-9]))|((?<![a-zA-Z0-9])(?<=.)(?=.))\")"
   ]
  },
  {
   "cell_type": "code",
   "execution_count": 9,
   "metadata": {},
   "outputs": [],
   "source": [
    "def pre_tokenize(s):\n",
    "    \"\"\"Split punctuations, etc.\"\"\"\n",
    "    s_tokenized = patt.split(s)\n",
    "    s_tokenized = list(\n",
    "        filter(lambda x: x is not None and len(x) > 0 and not x.isspace(), \n",
    "               s_tokenized)\n",
    "    )\n",
    "    s = \" \".join(s_tokenized)\n",
    "    return s\n",
    "\n",
    "def transforms(row):\n",
    "    raw_address, poi, street = row[[\"raw_address\", \"poi\", \"street\"]]\n",
    "\n",
    "    raw_address_tokenized = tokenizer.tokenize(pre_tokenize(raw_address))\n",
    "    poi_tokenized = tokenizer.tokenize(pre_tokenize(poi))\n",
    "    street_tokenized = tokenizer.tokenize(pre_tokenize(street))\n",
    "\n",
    "    # Get the start and end indices of each of [POI, street] in the raw address\n",
    "    poi_start, poi_end, street_start, street_end = -1, -1, -1, -1\n",
    "\n",
    "    if len(poi_tokenized) > 0:\n",
    "        for i, raw_address_i in enumerate(raw_address_tokenized):\n",
    "            if raw_address_i == poi_tokenized[0]:\n",
    "                for j in range(1, len(poi_tokenized)):\n",
    "                    if i + j >= len(raw_address_tokenized):\n",
    "                        break\n",
    "                    if raw_address_tokenized[i + j] != poi_tokenized[j]:\n",
    "                        break\n",
    "                else:\n",
    "                    poi_start = i\n",
    "                    poi_end = i + len(poi_tokenized) - 1\n",
    "                    break\n",
    "\n",
    "        if poi_start == -1 or poi_end == -1:\n",
    "            print(f\"POI not found. ID: {row['id']}, raw address: {raw_address_tokenized}, POI: {poi_tokenized}\")\n",
    "            raw_address = np.nan\n",
    "\n",
    "    if len(street_tokenized) > 0:\n",
    "        for i, raw_address_i in enumerate(raw_address_tokenized):\n",
    "            if raw_address_i == street_tokenized[0]:\n",
    "                for j in range(1, len(street_tokenized)):\n",
    "                    if i + j >= len(raw_address_tokenized):\n",
    "                        break\n",
    "                    if raw_address_tokenized[i + j] != street_tokenized[j]:\n",
    "                        break\n",
    "                else:\n",
    "                    street_start = i\n",
    "                    street_end = i + len(street_tokenized) - 1\n",
    "                    break\n",
    "\n",
    "        if street_start == -1 or street_end == -1:\n",
    "            print(f\"Street not found. ID:{row['id']}, raw address: {raw_address_tokenized}, street: {street_tokenized}\")\n",
    "            raw_address = np.nan\n",
    "\n",
    "    return pd.Series({\"raw_address\": raw_address, \"poi\": poi, \"street\": street,\n",
    "                      \"raw_address_tok\": raw_address_tokenized, \n",
    "                      \"poi_tok\": poi_tokenized, \"street_tok\": street_tokenized,\n",
    "                      \"poi_start\": poi_start, \"poi_end\": poi_end, \n",
    "                      \"street_start\": street_start, \"street_end\": street_end})"
   ]
  },
  {
   "cell_type": "code",
   "execution_count": 10,
   "metadata": {},
   "outputs": [
    {
     "name": "stderr",
     "output_type": "stream",
     "text": [
      " 51%|█████     | 152543/300000 [02:50<02:39, 925.71it/s]"
     ]
    },
    {
     "name": "stdout",
     "output_type": "stream",
     "text": [
      "POI not found. ID: 152382, raw address: ['▁', 'jl', '▁', '.', '▁le', 'uwi', 'an', 'yar', '▁', 'bung', 'su', '▁', 'rt', '▁', '.', '▁06', '▁r', 'w', '▁', '.', '▁03', '▁kel', '▁', '.', '▁suka', 'mana', 'h', '▁ke', 'c', '▁', '.', '▁', 'cipe', 'des', '▁kota', '▁tas', 'ik', 'ma', 'laya'], POI: ['▁', 'gg', '▁', '.', '▁', 'bung', 'su']\n"
     ]
    },
    {
     "name": "stderr",
     "output_type": "stream",
     "text": [
      "100%|██████████| 300000/300000 [05:56<00:00, 841.63it/s]"
     ]
    },
    {
     "name": "stdout",
     "output_type": "stream",
     "text": [
      "300000\n"
     ]
    },
    {
     "name": "stderr",
     "output_type": "stream",
     "text": [
      "\n"
     ]
    },
    {
     "data": {
      "text/html": [
       "<div>\n",
       "<style scoped>\n",
       "    .dataframe tbody tr th:only-of-type {\n",
       "        vertical-align: middle;\n",
       "    }\n",
       "\n",
       "    .dataframe tbody tr th {\n",
       "        vertical-align: top;\n",
       "    }\n",
       "\n",
       "    .dataframe thead th {\n",
       "        text-align: right;\n",
       "    }\n",
       "</style>\n",
       "<table border=\"1\" class=\"dataframe\">\n",
       "  <thead>\n",
       "    <tr style=\"text-align: right;\">\n",
       "      <th></th>\n",
       "      <th>raw_address</th>\n",
       "      <th>poi</th>\n",
       "      <th>street</th>\n",
       "      <th>raw_address_tok</th>\n",
       "      <th>poi_tok</th>\n",
       "      <th>street_tok</th>\n",
       "      <th>poi_start</th>\n",
       "      <th>poi_end</th>\n",
       "      <th>street_start</th>\n",
       "      <th>street_end</th>\n",
       "    </tr>\n",
       "  </thead>\n",
       "  <tbody>\n",
       "    <tr>\n",
       "      <th>0</th>\n",
       "      <td>kedai kopi sidikalang palapa no 8 labuh baru t...</td>\n",
       "      <td>kedai kopi sidikalang</td>\n",
       "      <td>palapa</td>\n",
       "      <td>[▁kedai, ▁kopi, ▁si, dika, lang, ▁pala, pa, ▁n...</td>\n",
       "      <td>[▁kedai, ▁kopi, ▁si, dika, lang]</td>\n",
       "      <td>[▁pala, pa]</td>\n",
       "      <td>0</td>\n",
       "      <td>4</td>\n",
       "      <td>5</td>\n",
       "      <td>6</td>\n",
       "    </tr>\n",
       "    <tr>\n",
       "      <th>1</th>\n",
       "      <td>jalan b. kawi, no 18 rw 11 50261</td>\n",
       "      <td></td>\n",
       "      <td>jalan b. kawi</td>\n",
       "      <td>[▁jalan, ▁b, ▁, ., ▁ka, wi, ▁, ,, ▁no, ▁18, ▁r...</td>\n",
       "      <td>[]</td>\n",
       "      <td>[▁jalan, ▁b, ▁, ., ▁ka, wi]</td>\n",
       "      <td>-1</td>\n",
       "      <td>-1</td>\n",
       "      <td>0</td>\n",
       "      <td>5</td>\n",
       "    </tr>\n",
       "  </tbody>\n",
       "</table>\n",
       "</div>"
      ],
      "text/plain": [
       "                                         raw_address                    poi  \\\n",
       "0  kedai kopi sidikalang palapa no 8 labuh baru t...  kedai kopi sidikalang   \n",
       "1                   jalan b. kawi, no 18 rw 11 50261                          \n",
       "\n",
       "          street                                    raw_address_tok  \\\n",
       "0         palapa  [▁kedai, ▁kopi, ▁si, dika, lang, ▁pala, pa, ▁n...   \n",
       "1  jalan b. kawi  [▁jalan, ▁b, ▁, ., ▁ka, wi, ▁, ,, ▁no, ▁18, ▁r...   \n",
       "\n",
       "                            poi_tok                   street_tok  poi_start  \\\n",
       "0  [▁kedai, ▁kopi, ▁si, dika, lang]                  [▁pala, pa]          0   \n",
       "1                                []  [▁jalan, ▁b, ▁, ., ▁ka, wi]         -1   \n",
       "\n",
       "   poi_end  street_start  street_end  \n",
       "0        4             5           6  \n",
       "1       -1             0           5  "
      ]
     },
     "execution_count": 10,
     "metadata": {},
     "output_type": "execute_result"
    }
   ],
   "source": [
    "df_processed = df.progress_apply(transforms, axis=1)\n",
    "print(len(df_processed))\n",
    "df_processed.head(2)"
   ]
  },
  {
   "cell_type": "code",
   "execution_count": 11,
   "metadata": {},
   "outputs": [],
   "source": [
    "# Remove invalid entries\n",
    "before = len(df_processed)\n",
    "df_processed = df_processed.dropna(subset=[\"raw_address\"])\n",
    "print(f\"Before: {before}, after: {len(df_processed)}\")"
   ]
  },
  {
   "cell_type": "code",
   "execution_count": 12,
   "metadata": {},
   "outputs": [
    {
     "name": "stdout",
     "output_type": "stream",
     "text": [
      "299999\n"
     ]
    },
    {
     "data": {
      "text/plain": [
       "{'raw_address': 'kedai kopi sidikalang palapa no 8 labuh baru timur',\n",
       " 'poi': 'kedai kopi sidikalang',\n",
       " 'street': 'palapa',\n",
       " 'raw_address_tok': ['▁kedai',\n",
       "  '▁kopi',\n",
       "  '▁si',\n",
       "  'dika',\n",
       "  'lang',\n",
       "  '▁pala',\n",
       "  'pa',\n",
       "  '▁no',\n",
       "  '▁8',\n",
       "  '▁la',\n",
       "  'buh',\n",
       "  '▁baru',\n",
       "  '▁timur'],\n",
       " 'poi_tok': ['▁kedai', '▁kopi', '▁si', 'dika', 'lang'],\n",
       " 'street_tok': ['▁pala', 'pa'],\n",
       " 'poi_start': 0,\n",
       " 'poi_end': 4,\n",
       " 'street_start': 5,\n",
       " 'street_end': 6}"
      ]
     },
     "execution_count": 12,
     "metadata": {},
     "output_type": "execute_result"
    }
   ],
   "source": [
    "df_processed = df_processed.T.to_dict()\n",
    "print(len(df_processed))\n",
    "df_processed[0]"
   ]
  },
  {
   "cell_type": "code",
   "execution_count": 13,
   "metadata": {},
   "outputs": [],
   "source": [
    "with open(\"data/processed/train_processed.json\", \"w\") as fout:\n",
    "    json.dump(df_processed, fout, indent=2)"
   ]
  },
  {
   "cell_type": "markdown",
   "metadata": {},
   "source": [
    "# 2. EDA (con't)"
   ]
  },
  {
   "cell_type": "code",
   "execution_count": 1,
   "metadata": {},
   "outputs": [],
   "source": [
    "import json\n",
    "\n",
    "import pandas as pd"
   ]
  },
  {
   "cell_type": "code",
   "execution_count": 2,
   "metadata": {},
   "outputs": [
    {
     "name": "stdout",
     "output_type": "stream",
     "text": [
      "299999\n"
     ]
    },
    {
     "data": {
      "text/html": [
       "<div>\n",
       "<style scoped>\n",
       "    .dataframe tbody tr th:only-of-type {\n",
       "        vertical-align: middle;\n",
       "    }\n",
       "\n",
       "    .dataframe tbody tr th {\n",
       "        vertical-align: top;\n",
       "    }\n",
       "\n",
       "    .dataframe thead th {\n",
       "        text-align: right;\n",
       "    }\n",
       "</style>\n",
       "<table border=\"1\" class=\"dataframe\">\n",
       "  <thead>\n",
       "    <tr style=\"text-align: right;\">\n",
       "      <th></th>\n",
       "      <th>raw_address</th>\n",
       "      <th>poi</th>\n",
       "      <th>street</th>\n",
       "      <th>raw_address_tok</th>\n",
       "      <th>poi_tok</th>\n",
       "      <th>street_tok</th>\n",
       "      <th>poi_start</th>\n",
       "      <th>poi_end</th>\n",
       "      <th>street_start</th>\n",
       "      <th>street_end</th>\n",
       "    </tr>\n",
       "  </thead>\n",
       "  <tbody>\n",
       "    <tr>\n",
       "      <th>0</th>\n",
       "      <td>kedai kopi sidikalang palapa no 8 labuh baru t...</td>\n",
       "      <td>kedai kopi sidikalang</td>\n",
       "      <td>palapa</td>\n",
       "      <td>[▁kedai, ▁kopi, ▁si, dika, lang, ▁pala, pa, ▁n...</td>\n",
       "      <td>[▁kedai, ▁kopi, ▁si, dika, lang]</td>\n",
       "      <td>[▁pala, pa]</td>\n",
       "      <td>0</td>\n",
       "      <td>4</td>\n",
       "      <td>5</td>\n",
       "      <td>6</td>\n",
       "    </tr>\n",
       "    <tr>\n",
       "      <th>1</th>\n",
       "      <td>jalan b. kawi, no 18 rw 11 50261</td>\n",
       "      <td></td>\n",
       "      <td>jalan b. kawi</td>\n",
       "      <td>[▁jalan, ▁b, ▁, ., ▁ka, wi, ▁, ,, ▁no, ▁18, ▁r...</td>\n",
       "      <td>[]</td>\n",
       "      <td>[▁jalan, ▁b, ▁, ., ▁ka, wi]</td>\n",
       "      <td>-1</td>\n",
       "      <td>-1</td>\n",
       "      <td>0</td>\n",
       "      <td>5</td>\n",
       "    </tr>\n",
       "    <tr>\n",
       "      <th>2</th>\n",
       "      <td>jalan gajah mada, no 20x</td>\n",
       "      <td></td>\n",
       "      <td>jalan gajah mada</td>\n",
       "      <td>[▁jalan, ▁ga, jah, ▁mada, ▁, ,, ▁no, ▁20, x]</td>\n",
       "      <td>[]</td>\n",
       "      <td>[▁jalan, ▁ga, jah, ▁mada]</td>\n",
       "      <td>-1</td>\n",
       "      <td>-1</td>\n",
       "      <td>0</td>\n",
       "      <td>3</td>\n",
       "    </tr>\n",
       "  </tbody>\n",
       "</table>\n",
       "</div>"
      ],
      "text/plain": [
       "                                         raw_address                    poi  \\\n",
       "0  kedai kopi sidikalang palapa no 8 labuh baru t...  kedai kopi sidikalang   \n",
       "1                   jalan b. kawi, no 18 rw 11 50261                          \n",
       "2                           jalan gajah mada, no 20x                          \n",
       "\n",
       "             street                                    raw_address_tok  \\\n",
       "0            palapa  [▁kedai, ▁kopi, ▁si, dika, lang, ▁pala, pa, ▁n...   \n",
       "1     jalan b. kawi  [▁jalan, ▁b, ▁, ., ▁ka, wi, ▁, ,, ▁no, ▁18, ▁r...   \n",
       "2  jalan gajah mada       [▁jalan, ▁ga, jah, ▁mada, ▁, ,, ▁no, ▁20, x]   \n",
       "\n",
       "                            poi_tok                   street_tok  poi_start  \\\n",
       "0  [▁kedai, ▁kopi, ▁si, dika, lang]                  [▁pala, pa]          0   \n",
       "1                                []  [▁jalan, ▁b, ▁, ., ▁ka, wi]         -1   \n",
       "2                                []    [▁jalan, ▁ga, jah, ▁mada]         -1   \n",
       "\n",
       "   poi_end  street_start  street_end  \n",
       "0        4             5           6  \n",
       "1       -1             0           5  \n",
       "2       -1             0           3  "
      ]
     },
     "execution_count": 2,
     "metadata": {},
     "output_type": "execute_result"
    }
   ],
   "source": [
    "with open(\"data/processed/train_processed.json\", \"r\") as fin:\n",
    "    df = json.load(fin)\n",
    "\n",
    "df = pd.DataFrame.from_dict(df, orient=\"index\")\n",
    "print(len(df))\n",
    "df.head(3)"
   ]
  },
  {
   "cell_type": "markdown",
   "metadata": {},
   "source": [
    "## 2.1 Length distribution"
   ]
  },
  {
   "cell_type": "code",
   "execution_count": 3,
   "metadata": {},
   "outputs": [
    {
     "data": {
      "text/plain": [
       "<AxesSubplot:>"
      ]
     },
     "execution_count": 3,
     "metadata": {},
     "output_type": "execute_result"
    },
    {
     "data": {
      "image/png": "[encoded data removed]",
      "text/plain": [
       "<Figure size 432x288 with 1 Axes>"
      ]
     },
     "metadata": {
      "needs_background": "light"
     },
     "output_type": "display_data"
    }
   ],
   "source": [
    "df[\"raw_address_tok\"].apply(len).hist(bins=20)"
   ]
  },
  {
   "cell_type": "code",
   "execution_count": 4,
   "metadata": {},
   "outputs": [
    {
     "data": {
      "text/plain": [
       "<AxesSubplot:>"
      ]
     },
     "execution_count": 4,
     "metadata": {},
     "output_type": "execute_result"
    },
    {
     "data": {
      "image/png": "[encoded data removed]",
      "text/plain": [
       "<Figure size 432x288 with 1 Axes>"
      ]
     },
     "metadata": {
      "needs_background": "light"
     },
     "output_type": "display_data"
    }
   ],
   "source": [
    "lengths = df[\"poi_tok\"].apply(len)\n",
    "lengths = lengths[lengths > 0]\n",
    "lengths.value_counts().plot(kind=\"bar\")"
   ]
  },
  {
   "cell_type": "code",
   "execution_count": 5,
   "metadata": {},
   "outputs": [
    {
     "data": {
      "text/plain": [
       "34    1\n",
       "36    1\n",
       "46    1\n",
       "48    1\n",
       "49    1\n",
       "Name: poi_tok, dtype: int64"
      ]
     },
     "execution_count": 5,
     "metadata": {},
     "output_type": "execute_result"
    }
   ],
   "source": [
    "lengths.value_counts().tail()"
   ]
  },
  {
   "cell_type": "code",
   "execution_count": 6,
   "metadata": {},
   "outputs": [
    {
     "data": {
      "text/plain": [
       "<AxesSubplot:>"
      ]
     },
     "execution_count": 6,
     "metadata": {},
     "output_type": "execute_result"
    },
    {
     "data": {
      "image/png": "[encoded data removed]",
      "text/plain": [
       "<Figure size 432x288 with 1 Axes>"
      ]
     },
     "metadata": {
      "needs_background": "light"
     },
     "output_type": "display_data"
    }
   ],
   "source": [
    "lengths = df[\"street_tok\"].apply(len)\n",
    "lengths = lengths[lengths > 0]\n",
    "lengths.value_counts().plot(kind=\"bar\")"
   ]
  },
  {
   "cell_type": "code",
   "execution_count": 7,
   "metadata": {},
   "outputs": [
    {
     "data": {
      "text/plain": [
       "37    1\n",
       "42    1\n",
       "46    1\n",
       "51    1\n",
       "52    1\n",
       "Name: street_tok, dtype: int64"
      ]
     },
     "execution_count": 7,
     "metadata": {},
     "output_type": "execute_result"
    }
   ],
   "source": [
    "lengths.value_counts().tail()"
   ]
  },
  {
   "cell_type": "markdown",
   "metadata": {},
   "source": [
    "### Observations\n",
    "\n",
    "1. Most of POI/street has length of 3 - 5 (tokenized).\n",
    "2. The two distributions (street and POI) are similar.\n",
    "3. There are quite a few of outliers (e.g., length of 49 for POI and length of 52 for street)."
   ]
  },
  {
   "cell_type": "markdown",
   "metadata": {},
   "source": [
    "## 2.2 Normalized length distribution"
   ]
  },
  {
   "cell_type": "code",
   "execution_count": 8,
   "metadata": {},
   "outputs": [
    {
     "data": {
      "text/plain": [
       "<AxesSubplot:>"
      ]
     },
     "execution_count": 8,
     "metadata": {},
     "output_type": "execute_result"
    },
    {
     "data": {
      "image/png": "[encoded data removed]",
      "text/plain": [
       "<Figure size 432x288 with 1 Axes>"
      ]
     },
     "metadata": {
      "needs_background": "light"
     },
     "output_type": "display_data"
    }
   ],
   "source": [
    "lengths = df[\"poi_tok\"].apply(len)\n",
    "s_lengths = df[\"raw_address_tok\"].apply(len)\n",
    "\n",
    "mask = lengths > 0\n",
    "lengths = lengths[mask]\n",
    "s_lengths = s_lengths[mask]\n",
    "\n",
    "(lengths / s_lengths).hist(bins=20)"
   ]
  },
  {
   "cell_type": "code",
   "execution_count": 9,
   "metadata": {},
   "outputs": [
    {
     "data": {
      "text/plain": [
       "<AxesSubplot:>"
      ]
     },
     "execution_count": 9,
     "metadata": {},
     "output_type": "execute_result"
    },
    {
     "data": {
      "image/png": "[encoded data removed]",
      "text/plain": [
       "<Figure size 432x288 with 1 Axes>"
      ]
     },
     "metadata": {
      "needs_background": "light"
     },
     "output_type": "display_data"
    }
   ],
   "source": [
    "lengths = df[\"street_tok\"].apply(len)\n",
    "s_lengths = df[\"raw_address_tok\"].apply(len)\n",
    "\n",
    "mask = lengths > 0\n",
    "lengths = lengths[mask]\n",
    "s_lengths = s_lengths[mask]\n",
    "\n",
    "(lengths / s_lengths).hist(bins=20)"
   ]
  },
  {
   "cell_type": "markdown",
   "metadata": {},
   "source": [
    "### Observations\n",
    "\n",
    "1. The distributions are quite similar.\n",
    "2. There is a significant amount of POIs which occupy the entire sentences. Note that, **however**, the reverse is expected (i.e., street is expected to have this behavior, not the POI)."
   ]
  },
  {
   "cell_type": "markdown",
   "metadata": {},
   "source": [
    "### 2.3 Normalized index distribution"
   ]
  },
  {
   "cell_type": "code",
   "execution_count": 10,
   "metadata": {
    "tags": []
   },
   "outputs": [
    {
     "data": {
      "text/plain": [
       "<AxesSubplot:>"
      ]
     },
     "execution_count": 10,
     "metadata": {},
     "output_type": "execute_result"
    },
    {
     "data": {
      "image/png": "[encoded data removed]",
      "text/plain": [
       "<Figure size 432x288 with 1 Axes>"
      ]
     },
     "metadata": {
      "needs_background": "light"
     },
     "output_type": "display_data"
    }
   ],
   "source": [
    "start = df[\"poi_start\"]\n",
    "end = df[\"poi_end\"]\n",
    "s_lengths = df[\"raw_address_tok\"].apply(len)\n",
    "\n",
    "mask = start >= 0\n",
    "start = start[mask]\n",
    "end = end[mask]\n",
    "s_lengths = s_lengths[mask]\n",
    "\n",
    "(start / (s_lengths - 1 + 1e-10)).hist(bins=20)"
   ]
  },
  {
   "cell_type": "code",
   "execution_count": 11,
   "metadata": {},
   "outputs": [
    {
     "data": {
      "text/plain": [
       "0.7966871574357266"
      ]
     },
     "execution_count": 11,
     "metadata": {},
     "output_type": "execute_result"
    }
   ],
   "source": [
    "# Fraction of POI that starts at the beginning of the sentence\n",
    "(start == 0).sum() / len(start)"
   ]
  },
  {
   "cell_type": "code",
   "execution_count": 12,
   "metadata": {},
   "outputs": [
    {
     "data": {
      "text/plain": [
       "<AxesSubplot:>"
      ]
     },
     "execution_count": 12,
     "metadata": {},
     "output_type": "execute_result"
    },
    {
     "data": {
      "image/png": "[encoded data removed]",
      "text/plain": [
       "<Figure size 432x288 with 1 Axes>"
      ]
     },
     "metadata": {
      "needs_background": "light"
     },
     "output_type": "display_data"
    }
   ],
   "source": [
    "(end / (s_lengths - 1 + 1e-10)).hist(bins=20)"
   ]
  },
  {
   "cell_type": "code",
   "execution_count": 13,
   "metadata": {
    "tags": []
   },
   "outputs": [
    {
     "data": {
      "text/plain": [
       "<AxesSubplot:>"
      ]
     },
     "execution_count": 13,
     "metadata": {},
     "output_type": "execute_result"
    },
    {
     "data": {
      "image/png": "[encoded data removed]",
      "text/plain": [
       "<Figure size 432x288 with 1 Axes>"
      ]
     },
     "metadata": {
      "needs_background": "light"
     },
     "output_type": "display_data"
    }
   ],
   "source": [
    "start = df[\"street_start\"]\n",
    "end = df[\"street_end\"]\n",
    "s_lengths = df[\"raw_address_tok\"].apply(len)\n",
    "\n",
    "mask = start >= 0\n",
    "start = start[mask]\n",
    "end = end[mask]\n",
    "s_lengths = s_lengths[mask]\n",
    "\n",
    "(start / (s_lengths - 1 + 1e-10)).hist(bins=20)"
   ]
  },
  {
   "cell_type": "code",
   "execution_count": 14,
   "metadata": {},
   "outputs": [
    {
     "data": {
      "text/plain": [
       "0.7127966584393393"
      ]
     },
     "execution_count": 14,
     "metadata": {},
     "output_type": "execute_result"
    }
   ],
   "source": [
    "# Fraction of POI that starts at the beginning of the sentence\n",
    "(start == 0).sum() / len(start)"
   ]
  },
  {
   "cell_type": "code",
   "execution_count": 15,
   "metadata": {},
   "outputs": [
    {
     "data": {
      "text/plain": [
       "<AxesSubplot:>"
      ]
     },
     "execution_count": 15,
     "metadata": {},
     "output_type": "execute_result"
    },
    {
     "data": {
      "image/png": "[encoded data removed]",
      "text/plain": [
       "<Figure size 432x288 with 1 Axes>"
      ]
     },
     "metadata": {
      "needs_background": "light"
     },
     "output_type": "display_data"
    }
   ],
   "source": [
    "(end / (s_lengths - 1 + 1e-10)).hist(bins=20)"
   ]
  },
  {
   "cell_type": "markdown",
   "metadata": {},
   "source": [
    "### Observations\n",
    "\n",
    "1. The start index distributions are very similar. The end index distributions, however, are not.\n",
    "2. There is a significant peak at start index 0 for both street and POI, indicating that a raw address is most likely to start with a street name or a person name, which is expected.\n",
    "3. There is also a small peak at end index 1.0 (last token in the sentence), indicating that these are sometimes written at the end of the adress, which is also expected. This is especially applicable for POI (its peak is significant)."
   ]
  },
  {
   "cell_type": "markdown",
   "metadata": {},
   "source": [
    "# 3. Stratified sampling\n",
    "\n",
    "Based on the occurrences of POI and street (`0`: no POI, no street, `1`: no street, `2`: no POI, `3`: have both) and total lengths of the tokenize raw address."
   ]
  },
  {
   "cell_type": "code",
   "execution_count": 1,
   "metadata": {},
   "outputs": [],
   "source": [
    "import os\n",
    "import math\n",
    "import json\n",
    "\n",
    "import pandas as pd"
   ]
  },
  {
   "cell_type": "code",
   "execution_count": 2,
   "metadata": {},
   "outputs": [],
   "source": [
    "num_folds = 10\n",
    "src_path = \"data/processed/train_processed.json\"\n",
    "dest_dir = \"data/processed/splits/\""
   ]
  },
  {
   "cell_type": "code",
   "execution_count": 3,
   "metadata": {},
   "outputs": [
    {
     "name": "stdout",
     "output_type": "stream",
     "text": [
      "299999\n"
     ]
    },
    {
     "data": {
      "text/html": [
       "<div>\n",
       "<style scoped>\n",
       "    .dataframe tbody tr th:only-of-type {\n",
       "        vertical-align: middle;\n",
       "    }\n",
       "\n",
       "    .dataframe tbody tr th {\n",
       "        vertical-align: top;\n",
       "    }\n",
       "\n",
       "    .dataframe thead th {\n",
       "        text-align: right;\n",
       "    }\n",
       "</style>\n",
       "<table border=\"1\" class=\"dataframe\">\n",
       "  <thead>\n",
       "    <tr style=\"text-align: right;\">\n",
       "      <th></th>\n",
       "      <th>raw_address</th>\n",
       "      <th>poi</th>\n",
       "      <th>street</th>\n",
       "      <th>raw_address_tok</th>\n",
       "      <th>poi_tok</th>\n",
       "      <th>street_tok</th>\n",
       "      <th>poi_start</th>\n",
       "      <th>poi_end</th>\n",
       "      <th>street_start</th>\n",
       "      <th>street_end</th>\n",
       "    </tr>\n",
       "  </thead>\n",
       "  <tbody>\n",
       "    <tr>\n",
       "      <th>0</th>\n",
       "      <td>kedai kopi sidikalang palapa no 8 labuh baru t...</td>\n",
       "      <td>kedai kopi sidikalang</td>\n",
       "      <td>palapa</td>\n",
       "      <td>[▁kedai, ▁kopi, ▁si, dika, lang, ▁pala, pa, ▁n...</td>\n",
       "      <td>[▁kedai, ▁kopi, ▁si, dika, lang]</td>\n",
       "      <td>[▁pala, pa]</td>\n",
       "      <td>0</td>\n",
       "      <td>4</td>\n",
       "      <td>5</td>\n",
       "      <td>6</td>\n",
       "    </tr>\n",
       "    <tr>\n",
       "      <th>1</th>\n",
       "      <td>jalan b. kawi, no 18 rw 11 50261</td>\n",
       "      <td></td>\n",
       "      <td>jalan b. kawi</td>\n",
       "      <td>[▁jalan, ▁b, ▁, ., ▁ka, wi, ▁, ,, ▁no, ▁18, ▁r...</td>\n",
       "      <td>[]</td>\n",
       "      <td>[▁jalan, ▁b, ▁, ., ▁ka, wi]</td>\n",
       "      <td>-1</td>\n",
       "      <td>-1</td>\n",
       "      <td>0</td>\n",
       "      <td>5</td>\n",
       "    </tr>\n",
       "  </tbody>\n",
       "</table>\n",
       "</div>"
      ],
      "text/plain": [
       "                                         raw_address                    poi  \\\n",
       "0  kedai kopi sidikalang palapa no 8 labuh baru t...  kedai kopi sidikalang   \n",
       "1                   jalan b. kawi, no 18 rw 11 50261                          \n",
       "\n",
       "          street                                    raw_address_tok  \\\n",
       "0         palapa  [▁kedai, ▁kopi, ▁si, dika, lang, ▁pala, pa, ▁n...   \n",
       "1  jalan b. kawi  [▁jalan, ▁b, ▁, ., ▁ka, wi, ▁, ,, ▁no, ▁18, ▁r...   \n",
       "\n",
       "                            poi_tok                   street_tok  poi_start  \\\n",
       "0  [▁kedai, ▁kopi, ▁si, dika, lang]                  [▁pala, pa]          0   \n",
       "1                                []  [▁jalan, ▁b, ▁, ., ▁ka, wi]         -1   \n",
       "\n",
       "   poi_end  street_start  street_end  \n",
       "0        4             5           6  \n",
       "1       -1             0           5  "
      ]
     },
     "execution_count": 3,
     "metadata": {},
     "output_type": "execute_result"
    }
   ],
   "source": [
    "with open(src_path, \"r\") as fin:\n",
    "    df = json.load(fin)\n",
    "\n",
    "df = pd.DataFrame.from_dict(df, orient=\"index\")\n",
    "print(len(df))\n",
    "df.head(2)"
   ]
  },
  {
   "cell_type": "code",
   "execution_count": 4,
   "metadata": {},
   "outputs": [
    {
     "data": {
      "text/html": [
       "<div>\n",
       "<style scoped>\n",
       "    .dataframe tbody tr th:only-of-type {\n",
       "        vertical-align: middle;\n",
       "    }\n",
       "\n",
       "    .dataframe tbody tr th {\n",
       "        vertical-align: top;\n",
       "    }\n",
       "\n",
       "    .dataframe thead th {\n",
       "        text-align: right;\n",
       "    }\n",
       "</style>\n",
       "<table border=\"1\" class=\"dataframe\">\n",
       "  <thead>\n",
       "    <tr style=\"text-align: right;\">\n",
       "      <th></th>\n",
       "      <th>raw_address</th>\n",
       "      <th>poi</th>\n",
       "      <th>street</th>\n",
       "      <th>raw_address_tok</th>\n",
       "      <th>poi_tok</th>\n",
       "      <th>street_tok</th>\n",
       "      <th>poi_start</th>\n",
       "      <th>poi_end</th>\n",
       "      <th>street_start</th>\n",
       "      <th>street_end</th>\n",
       "      <th>raw_address_lengths</th>\n",
       "      <th>have_street_and_poi</th>\n",
       "    </tr>\n",
       "  </thead>\n",
       "  <tbody>\n",
       "    <tr>\n",
       "      <th>0</th>\n",
       "      <td>kedai kopi sidikalang palapa no 8 labuh baru t...</td>\n",
       "      <td>kedai kopi sidikalang</td>\n",
       "      <td>palapa</td>\n",
       "      <td>[▁kedai, ▁kopi, ▁si, dika, lang, ▁pala, pa, ▁n...</td>\n",
       "      <td>[▁kedai, ▁kopi, ▁si, dika, lang]</td>\n",
       "      <td>[▁pala, pa]</td>\n",
       "      <td>0</td>\n",
       "      <td>4</td>\n",
       "      <td>5</td>\n",
       "      <td>6</td>\n",
       "      <td>13</td>\n",
       "      <td>3</td>\n",
       "    </tr>\n",
       "    <tr>\n",
       "      <th>1</th>\n",
       "      <td>jalan b. kawi, no 18 rw 11 50261</td>\n",
       "      <td></td>\n",
       "      <td>jalan b. kawi</td>\n",
       "      <td>[▁jalan, ▁b, ▁, ., ▁ka, wi, ▁, ,, ▁no, ▁18, ▁r...</td>\n",
       "      <td>[]</td>\n",
       "      <td>[▁jalan, ▁b, ▁, ., ▁ka, wi]</td>\n",
       "      <td>-1</td>\n",
       "      <td>-1</td>\n",
       "      <td>0</td>\n",
       "      <td>5</td>\n",
       "      <td>16</td>\n",
       "      <td>1</td>\n",
       "    </tr>\n",
       "  </tbody>\n",
       "</table>\n",
       "</div>"
      ],
      "text/plain": [
       "                                         raw_address                    poi  \\\n",
       "0  kedai kopi sidikalang palapa no 8 labuh baru t...  kedai kopi sidikalang   \n",
       "1                   jalan b. kawi, no 18 rw 11 50261                          \n",
       "\n",
       "          street                                    raw_address_tok  \\\n",
       "0         palapa  [▁kedai, ▁kopi, ▁si, dika, lang, ▁pala, pa, ▁n...   \n",
       "1  jalan b. kawi  [▁jalan, ▁b, ▁, ., ▁ka, wi, ▁, ,, ▁no, ▁18, ▁r...   \n",
       "\n",
       "                            poi_tok                   street_tok  poi_start  \\\n",
       "0  [▁kedai, ▁kopi, ▁si, dika, lang]                  [▁pala, pa]          0   \n",
       "1                                []  [▁jalan, ▁b, ▁, ., ▁ka, wi]         -1   \n",
       "\n",
       "   poi_end  street_start  street_end  raw_address_lengths  have_street_and_poi  \n",
       "0        4             5           6                   13                    3  \n",
       "1       -1             0           5                   16                    1  "
      ]
     },
     "execution_count": 4,
     "metadata": {},
     "output_type": "execute_result"
    }
   ],
   "source": [
    "df[\"raw_address_lengths\"] = df[\"raw_address_tok\"].apply(len)\n",
    "\n",
    "street = (df[\"street_start\"].to_numpy() != -1)\n",
    "poi = (df[\"poi_start\"].to_numpy() != -1) * 2\n",
    "df[\"have_street_and_poi\"] = street + poi\n",
    "\n",
    "df.head(2)"
   ]
  },
  {
   "cell_type": "code",
   "execution_count": 5,
   "metadata": {},
   "outputs": [
    {
     "name": "stdout",
     "output_type": "stream",
     "text": [
      "[30096, 30070, 30063, 30056, 30054, 30046, 30037, 30025, 30004, 29548]\n"
     ]
    },
    {
     "data": {
      "text/html": [
       "<div>\n",
       "<style scoped>\n",
       "    .dataframe tbody tr th:only-of-type {\n",
       "        vertical-align: middle;\n",
       "    }\n",
       "\n",
       "    .dataframe tbody tr th {\n",
       "        vertical-align: top;\n",
       "    }\n",
       "\n",
       "    .dataframe thead th {\n",
       "        text-align: right;\n",
       "    }\n",
       "</style>\n",
       "<table border=\"1\" class=\"dataframe\">\n",
       "  <thead>\n",
       "    <tr style=\"text-align: right;\">\n",
       "      <th></th>\n",
       "      <th>raw_address</th>\n",
       "      <th>poi</th>\n",
       "      <th>street</th>\n",
       "      <th>raw_address_tok</th>\n",
       "      <th>poi_tok</th>\n",
       "      <th>street_tok</th>\n",
       "      <th>poi_start</th>\n",
       "      <th>poi_end</th>\n",
       "      <th>street_start</th>\n",
       "      <th>street_end</th>\n",
       "      <th>raw_address_lengths</th>\n",
       "      <th>have_street_and_poi</th>\n",
       "    </tr>\n",
       "  </thead>\n",
       "  <tbody>\n",
       "    <tr>\n",
       "      <th>0</th>\n",
       "      <td>rata</td>\n",
       "      <td></td>\n",
       "      <td></td>\n",
       "      <td>[▁rata]</td>\n",
       "      <td>[]</td>\n",
       "      <td>[]</td>\n",
       "      <td>-1</td>\n",
       "      <td>-1</td>\n",
       "      <td>-1</td>\n",
       "      <td>-1</td>\n",
       "      <td>1</td>\n",
       "      <td>0</td>\n",
       "    </tr>\n",
       "    <tr>\n",
       "      <th>1</th>\n",
       "      <td>pemuda</td>\n",
       "      <td></td>\n",
       "      <td>pemuda</td>\n",
       "      <td>[▁pemuda]</td>\n",
       "      <td>[]</td>\n",
       "      <td>[▁pemuda]</td>\n",
       "      <td>-1</td>\n",
       "      <td>-1</td>\n",
       "      <td>0</td>\n",
       "      <td>0</td>\n",
       "      <td>1</td>\n",
       "      <td>1</td>\n",
       "    </tr>\n",
       "  </tbody>\n",
       "</table>\n",
       "</div>"
      ],
      "text/plain": [
       "  raw_address poi  street raw_address_tok poi_tok street_tok  poi_start  \\\n",
       "0        rata                     [▁rata]      []         []         -1   \n",
       "1      pemuda      pemuda       [▁pemuda]      []  [▁pemuda]         -1   \n",
       "\n",
       "   poi_end  street_start  street_end  raw_address_lengths  have_street_and_poi  \n",
       "0       -1            -1          -1                    1                    0  \n",
       "1       -1             0           0                    1                    1  "
      ]
     },
     "execution_count": 5,
     "metadata": {},
     "output_type": "execute_result"
    }
   ],
   "source": [
    "folds = [[] for _ in range(num_folds)]\n",
    "df = df.sample(frac=1.0, random_state=136)\n",
    "\n",
    "for (_, _), sub_df in df.groupby([\"raw_address_lengths\", \"have_street_and_poi\"]):\n",
    "    size = math.ceil(len(sub_df) / num_folds)\n",
    "\n",
    "    for i in range(num_folds):\n",
    "        start = i * size\n",
    "        end = min((i + 1) * size, len(sub_df))\n",
    "        folds[i].append(sub_df.iloc[start:end])\n",
    "\n",
    "folds = [pd.concat(fold, ignore_index=True) for fold in folds]\n",
    "print([len(fold) for fold in folds])\n",
    "folds[0].head(2)"
   ]
  },
  {
   "cell_type": "code",
   "execution_count": 6,
   "metadata": {},
   "outputs": [],
   "source": [
    "# Post process and save\n",
    "save_path = os.path.join(dest_dir, \"fold_{}.json\")\n",
    "\n",
    "for i, df_fold in enumerate(folds):\n",
    "    df_fold = df_fold[[\"raw_address\", \"poi\", \"street\", \"raw_address_tok\", \n",
    "                       \"poi_tok\", \"street_tok\", \"poi_start\", \"poi_end\", \n",
    "                       \"street_start\", \"street_end\"]]\n",
    "    with open(save_path.format(i), \"w\") as fout:\n",
    "        json.dump(df_fold.T.to_dict(), fout, indent=2)"
   ]
  },
  {
   "cell_type": "markdown",
   "metadata": {},
   "source": [
    "# 4. Process test data"
   ]
  },
  {
   "cell_type": "code",
   "execution_count": 1,
   "metadata": {},
   "outputs": [],
   "source": [
    "import re\n",
    "import json\n",
    "\n",
    "import pandas as pd\n",
    "from tqdm import tqdm\n",
    "from transformers import AutoTokenizer, AutoModelForTokenClassification\n",
    "\n",
    "tqdm.pandas()"
   ]
  },
  {
   "cell_type": "code",
   "execution_count": 2,
   "metadata": {},
   "outputs": [
    {
     "name": "stdout",
     "output_type": "stream",
     "text": [
      "50000\n"
     ]
    },
    {
     "data": {
      "text/html": [
       "<div>\n",
       "<style scoped>\n",
       "    .dataframe tbody tr th:only-of-type {\n",
       "        vertical-align: middle;\n",
       "    }\n",
       "\n",
       "    .dataframe tbody tr th {\n",
       "        vertical-align: top;\n",
       "    }\n",
       "\n",
       "    .dataframe thead th {\n",
       "        text-align: right;\n",
       "    }\n",
       "</style>\n",
       "<table border=\"1\" class=\"dataframe\">\n",
       "  <thead>\n",
       "    <tr style=\"text-align: right;\">\n",
       "      <th></th>\n",
       "      <th>Unnamed: 0</th>\n",
       "      <th>id</th>\n",
       "      <th>raw_address</th>\n",
       "    </tr>\n",
       "  </thead>\n",
       "  <tbody>\n",
       "    <tr>\n",
       "      <th>0</th>\n",
       "      <td>0</td>\n",
       "      <td>0</td>\n",
       "      <td>jalan haji abdul manaf, no 7</td>\n",
       "    </tr>\n",
       "    <tr>\n",
       "      <th>1</th>\n",
       "      <td>1</td>\n",
       "      <td>1</td>\n",
       "      <td>jalan damai vi, no 15 rt 1 rw 8 cipondoh makmur</td>\n",
       "    </tr>\n",
       "    <tr>\n",
       "      <th>2</th>\n",
       "      <td>2</td>\n",
       "      <td>2</td>\n",
       "      <td>toko waris</td>\n",
       "    </tr>\n",
       "  </tbody>\n",
       "</table>\n",
       "</div>"
      ],
      "text/plain": [
       "   Unnamed: 0  id                                      raw_address\n",
       "0           0   0                     jalan haji abdul manaf, no 7\n",
       "1           1   1  jalan damai vi, no 15 rt 1 rw 8 cipondoh makmur\n",
       "2           2   2                                       toko waris"
      ]
     },
     "execution_count": 2,
     "metadata": {},
     "output_type": "execute_result"
    }
   ],
   "source": [
    "tokenizer = AutoTokenizer.from_pretrained(\"cahya/xlm-roberta-large-indonesian-NER\")\n",
    "patt = re.compile(\"((?<=.)(?![a-zA-Z0-9]))|((?<![a-zA-Z0-9])(?<=.)(?=.))\")\n",
    "\n",
    "df = pd.read_csv(\"data/orig/new_test.csv\")\n",
    "print(len(df))\n",
    "df.head(3)"
   ]
  },
  {
   "cell_type": "code",
   "execution_count": 3,
   "metadata": {},
   "outputs": [],
   "source": [
    "def pre_tokenize(s):\n",
    "    \"\"\"Split punctuations, etc.\"\"\"\n",
    "    s_tokenized = patt.split(s)\n",
    "    s_tokenized = list(\n",
    "        filter(lambda x: x is not None and len(x) > 0 and not x.isspace(), \n",
    "               s_tokenized)\n",
    "    )\n",
    "    s = \" \".join(s_tokenized)\n",
    "    return s\n",
    "\n",
    "def transforms(row):\n",
    "    raw_address = row[\"raw_address\"]\n",
    "    raw_address_tokenized = tokenizer.tokenize(pre_tokenize(raw_address))\n",
    "\n",
    "    return pd.Series({\"raw_address\": raw_address,\n",
    "                      \"raw_address_tok\": raw_address_tokenized})"
   ]
  },
  {
   "cell_type": "code",
   "execution_count": 4,
   "metadata": {},
   "outputs": [
    {
     "name": "stderr",
     "output_type": "stream",
     "text": [
      "100%|██████████| 50000/50000 [00:29<00:00, 1688.70it/s]"
     ]
    },
    {
     "name": "stdout",
     "output_type": "stream",
     "text": [
      "50000\n"
     ]
    },
    {
     "name": "stderr",
     "output_type": "stream",
     "text": [
      "\n"
     ]
    },
    {
     "data": {
      "text/html": [
       "<div>\n",
       "<style scoped>\n",
       "    .dataframe tbody tr th:only-of-type {\n",
       "        vertical-align: middle;\n",
       "    }\n",
       "\n",
       "    .dataframe tbody tr th {\n",
       "        vertical-align: top;\n",
       "    }\n",
       "\n",
       "    .dataframe thead th {\n",
       "        text-align: right;\n",
       "    }\n",
       "</style>\n",
       "<table border=\"1\" class=\"dataframe\">\n",
       "  <thead>\n",
       "    <tr style=\"text-align: right;\">\n",
       "      <th></th>\n",
       "      <th>raw_address</th>\n",
       "      <th>raw_address_tok</th>\n",
       "    </tr>\n",
       "  </thead>\n",
       "  <tbody>\n",
       "    <tr>\n",
       "      <th>0</th>\n",
       "      <td>jalan haji abdul manaf, no 7</td>\n",
       "      <td>[▁jalan, ▁haji, ▁ab, dul, ▁man, af, ▁, ,, ▁no,...</td>\n",
       "    </tr>\n",
       "    <tr>\n",
       "      <th>1</th>\n",
       "      <td>jalan damai vi, no 15 rt 1 rw 8 cipondoh makmur</td>\n",
       "      <td>[▁jalan, ▁da, mai, ▁vi, ▁, ,, ▁no, ▁15, ▁, rt,...</td>\n",
       "    </tr>\n",
       "  </tbody>\n",
       "</table>\n",
       "</div>"
      ],
      "text/plain": [
       "                                       raw_address  \\\n",
       "0                     jalan haji abdul manaf, no 7   \n",
       "1  jalan damai vi, no 15 rt 1 rw 8 cipondoh makmur   \n",
       "\n",
       "                                     raw_address_tok  \n",
       "0  [▁jalan, ▁haji, ▁ab, dul, ▁man, af, ▁, ,, ▁no,...  \n",
       "1  [▁jalan, ▁da, mai, ▁vi, ▁, ,, ▁no, ▁15, ▁, rt,...  "
      ]
     },
     "execution_count": 4,
     "metadata": {},
     "output_type": "execute_result"
    }
   ],
   "source": [
    "df_processed = df.progress_apply(transforms, axis=1)\n",
    "print(len(df_processed))\n",
    "df_processed.head(2)"
   ]
  },
  {
   "cell_type": "code",
   "execution_count": 5,
   "metadata": {},
   "outputs": [
    {
     "name": "stdout",
     "output_type": "stream",
     "text": [
      "50000\n"
     ]
    },
    {
     "data": {
      "text/plain": [
       "{'raw_address': 'jalan haji abdul manaf, no 7',\n",
       " 'raw_address_tok': ['▁jalan',\n",
       "  '▁haji',\n",
       "  '▁ab',\n",
       "  'dul',\n",
       "  '▁man',\n",
       "  'af',\n",
       "  '▁',\n",
       "  ',',\n",
       "  '▁no',\n",
       "  '▁7']}"
      ]
     },
     "execution_count": 5,
     "metadata": {},
     "output_type": "execute_result"
    }
   ],
   "source": [
    "df_processed = df_processed.T.to_dict()\n",
    "print(len(df_processed))\n",
    "df_processed[0]"
   ]
  },
  {
   "cell_type": "code",
   "execution_count": 6,
   "metadata": {},
   "outputs": [],
   "source": [
    "with open(\"data/processed/test_processed.json\", \"w\") as fout:\n",
    "    json.dump(df_processed, fout, indent=2)"
   ]
  }
 ],
 "metadata": {
  "kernelspec": {
   "display_name": "Python 3",
   "language": "python",
   "name": "python3"
  },
  "language_info": {
   "codemirror_mode": {
    "name": "ipython",
    "version": 3
   },
   "file_extension": ".py",
   "mimetype": "text/x-python",
   "name": "python",
   "nbconvert_exporter": "python",
   "pygments_lexer": "ipython3",
   "version": "3.7.9"
  }
 },
 "nbformat": 4,
 "nbformat_minor": 5
}
